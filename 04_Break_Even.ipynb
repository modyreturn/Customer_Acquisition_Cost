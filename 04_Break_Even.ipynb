{
 "cells": [
  {
   "cell_type": "code",
   "execution_count": 1,
   "id": "86f6f05e",
   "metadata": {},
   "outputs": [
    {
     "data": {
      "application/vnd.microsoft.datawrangler.viewer.v0+json": {
       "columns": [
        {
         "name": "index",
         "rawType": "int64",
         "type": "integer"
        },
        {
         "name": "Customer_ID",
         "rawType": "object",
         "type": "string"
        },
        {
         "name": "Marketing_Channel",
         "rawType": "object",
         "type": "string"
        },
        {
         "name": "Marketing_Spend",
         "rawType": "float64",
         "type": "float"
        },
        {
         "name": "New_Customers",
         "rawType": "int64",
         "type": "integer"
        }
       ],
       "ref": "029b1ed7-fd81-4a00-816c-80685dea3097",
       "rows": [
        [
         "0",
         "CUST0001",
         "Email Marketing",
         "3489.0278438962587",
         "16"
        ],
        [
         "1",
         "CUST0002",
         "Online Ads",
         "1107.8658076205506",
         "33"
        ],
        [
         "2",
         "CUST0003",
         "Social Media",
         "2576.081025358819",
         "44"
        ],
        [
         "3",
         "CUST0004",
         "Online Ads",
         "3257.5679320990967",
         "32"
        ],
        [
         "4",
         "CUST0005",
         "Email Marketing",
         "1108.4081853612497",
         "13"
        ]
       ],
       "shape": {
        "columns": 4,
        "rows": 5
       }
      },
      "text/html": [
       "<div>\n",
       "<style scoped>\n",
       "    .dataframe tbody tr th:only-of-type {\n",
       "        vertical-align: middle;\n",
       "    }\n",
       "\n",
       "    .dataframe tbody tr th {\n",
       "        vertical-align: top;\n",
       "    }\n",
       "\n",
       "    .dataframe thead th {\n",
       "        text-align: right;\n",
       "    }\n",
       "</style>\n",
       "<table border=\"1\" class=\"dataframe\">\n",
       "  <thead>\n",
       "    <tr style=\"text-align: right;\">\n",
       "      <th></th>\n",
       "      <th>Customer_ID</th>\n",
       "      <th>Marketing_Channel</th>\n",
       "      <th>Marketing_Spend</th>\n",
       "      <th>New_Customers</th>\n",
       "    </tr>\n",
       "  </thead>\n",
       "  <tbody>\n",
       "    <tr>\n",
       "      <th>0</th>\n",
       "      <td>CUST0001</td>\n",
       "      <td>Email Marketing</td>\n",
       "      <td>3489.027844</td>\n",
       "      <td>16</td>\n",
       "    </tr>\n",
       "    <tr>\n",
       "      <th>1</th>\n",
       "      <td>CUST0002</td>\n",
       "      <td>Online Ads</td>\n",
       "      <td>1107.865808</td>\n",
       "      <td>33</td>\n",
       "    </tr>\n",
       "    <tr>\n",
       "      <th>2</th>\n",
       "      <td>CUST0003</td>\n",
       "      <td>Social Media</td>\n",
       "      <td>2576.081025</td>\n",
       "      <td>44</td>\n",
       "    </tr>\n",
       "    <tr>\n",
       "      <th>3</th>\n",
       "      <td>CUST0004</td>\n",
       "      <td>Online Ads</td>\n",
       "      <td>3257.567932</td>\n",
       "      <td>32</td>\n",
       "    </tr>\n",
       "    <tr>\n",
       "      <th>4</th>\n",
       "      <td>CUST0005</td>\n",
       "      <td>Email Marketing</td>\n",
       "      <td>1108.408185</td>\n",
       "      <td>13</td>\n",
       "    </tr>\n",
       "  </tbody>\n",
       "</table>\n",
       "</div>"
      ],
      "text/plain": [
       "  Customer_ID Marketing_Channel  Marketing_Spend  New_Customers\n",
       "0    CUST0001   Email Marketing      3489.027844             16\n",
       "1    CUST0002        Online Ads      1107.865808             33\n",
       "2    CUST0003      Social Media      2576.081025             44\n",
       "3    CUST0004        Online Ads      3257.567932             32\n",
       "4    CUST0005   Email Marketing      1108.408185             13"
      ]
     },
     "execution_count": 1,
     "metadata": {},
     "output_type": "execute_result"
    }
   ],
   "source": [
    "import pandas as pd\n",
    "import numpy as np\n",
    "import matplotlib.pyplot as plt\n",
    "import seaborn as sns\n",
    "from matplotlib.ticker import FuncFormatter\n",
    "import plotly.express as px\n",
    "\n",
    "import warnings\n",
    "warnings.filterwarnings(\"ignore\")\n",
    "\n",
    "df = pd.read_csv(r\"C:\\Users\\emper\\OneDrive\\Desktop\\Customer Acquisition Cost Analysis\\cac.csv\")\n",
    "\n",
    "df.head()\n"
   ]
  },
  {
   "cell_type": "code",
   "execution_count": 2,
   "id": "c325afa0",
   "metadata": {},
   "outputs": [
    {
     "name": "stdout",
     "output_type": "stream",
     "text": [
      "<class 'pandas.core.frame.DataFrame'>\n",
      "RangeIndex: 500 entries, 0 to 499\n",
      "Data columns (total 4 columns):\n",
      " #   Column             Non-Null Count  Dtype  \n",
      "---  ------             --------------  -----  \n",
      " 0   Customer_ID        500 non-null    object \n",
      " 1   Marketing_Channel  500 non-null    object \n",
      " 2   Marketing_Spend    500 non-null    float64\n",
      " 3   New_Customers      500 non-null    int64  \n",
      "dtypes: float64(1), int64(1), object(2)\n",
      "memory usage: 15.8+ KB\n"
     ]
    }
   ],
   "source": [
    "df.info()"
   ]
  },
  {
   "cell_type": "code",
   "execution_count": 3,
   "id": "32d43e95",
   "metadata": {},
   "outputs": [
    {
     "data": {
      "application/vnd.microsoft.datawrangler.viewer.v0+json": {
       "columns": [
        {
         "name": "index",
         "rawType": "int64",
         "type": "integer"
        },
        {
         "name": "Customer_ID",
         "rawType": "object",
         "type": "string"
        },
        {
         "name": "Marketing_Channel",
         "rawType": "object",
         "type": "string"
        },
        {
         "name": "Marketing_Spend",
         "rawType": "float64",
         "type": "float"
        },
        {
         "name": "New_Customers",
         "rawType": "int64",
         "type": "integer"
        },
        {
         "name": "CAC",
         "rawType": "float64",
         "type": "float"
        },
        {
         "name": "Conversion_Rate",
         "rawType": "float64",
         "type": "float"
        }
       ],
       "ref": "e05b505e-6801-4e6d-9c3e-dab22e00ac65",
       "rows": [
        [
         "0",
         "CUST0001",
         "Email Marketing",
         "3489.0278438962587",
         "16",
         "218.06424024351617",
         "0.4585804618323859"
        ],
        [
         "1",
         "CUST0002",
         "Online Ads",
         "1107.8658076205506",
         "33",
         "33.57169114001669",
         "2.97870010726991"
        ],
        [
         "2",
         "CUST0003",
         "Social Media",
         "2576.081025358819",
         "44",
         "58.547296030882244",
         "1.7080208101711902"
        ],
        [
         "3",
         "CUST0004",
         "Online Ads",
         "3257.5679320990967",
         "32",
         "101.79899787809677",
         "0.9823279411821808"
        ],
        [
         "4",
         "CUST0005",
         "Email Marketing",
         "1108.4081853612497",
         "13",
         "85.26216810471152",
         "1.1728531214124038"
        ]
       ],
       "shape": {
        "columns": 6,
        "rows": 5
       }
      },
      "text/html": [
       "<div>\n",
       "<style scoped>\n",
       "    .dataframe tbody tr th:only-of-type {\n",
       "        vertical-align: middle;\n",
       "    }\n",
       "\n",
       "    .dataframe tbody tr th {\n",
       "        vertical-align: top;\n",
       "    }\n",
       "\n",
       "    .dataframe thead th {\n",
       "        text-align: right;\n",
       "    }\n",
       "</style>\n",
       "<table border=\"1\" class=\"dataframe\">\n",
       "  <thead>\n",
       "    <tr style=\"text-align: right;\">\n",
       "      <th></th>\n",
       "      <th>Customer_ID</th>\n",
       "      <th>Marketing_Channel</th>\n",
       "      <th>Marketing_Spend</th>\n",
       "      <th>New_Customers</th>\n",
       "      <th>CAC</th>\n",
       "      <th>Conversion_Rate</th>\n",
       "    </tr>\n",
       "  </thead>\n",
       "  <tbody>\n",
       "    <tr>\n",
       "      <th>0</th>\n",
       "      <td>CUST0001</td>\n",
       "      <td>Email Marketing</td>\n",
       "      <td>3489.027844</td>\n",
       "      <td>16</td>\n",
       "      <td>218.064240</td>\n",
       "      <td>0.458580</td>\n",
       "    </tr>\n",
       "    <tr>\n",
       "      <th>1</th>\n",
       "      <td>CUST0002</td>\n",
       "      <td>Online Ads</td>\n",
       "      <td>1107.865808</td>\n",
       "      <td>33</td>\n",
       "      <td>33.571691</td>\n",
       "      <td>2.978700</td>\n",
       "    </tr>\n",
       "    <tr>\n",
       "      <th>2</th>\n",
       "      <td>CUST0003</td>\n",
       "      <td>Social Media</td>\n",
       "      <td>2576.081025</td>\n",
       "      <td>44</td>\n",
       "      <td>58.547296</td>\n",
       "      <td>1.708021</td>\n",
       "    </tr>\n",
       "    <tr>\n",
       "      <th>3</th>\n",
       "      <td>CUST0004</td>\n",
       "      <td>Online Ads</td>\n",
       "      <td>3257.567932</td>\n",
       "      <td>32</td>\n",
       "      <td>101.798998</td>\n",
       "      <td>0.982328</td>\n",
       "    </tr>\n",
       "    <tr>\n",
       "      <th>4</th>\n",
       "      <td>CUST0005</td>\n",
       "      <td>Email Marketing</td>\n",
       "      <td>1108.408185</td>\n",
       "      <td>13</td>\n",
       "      <td>85.262168</td>\n",
       "      <td>1.172853</td>\n",
       "    </tr>\n",
       "  </tbody>\n",
       "</table>\n",
       "</div>"
      ],
      "text/plain": [
       "  Customer_ID Marketing_Channel  Marketing_Spend  New_Customers         CAC  \\\n",
       "0    CUST0001   Email Marketing      3489.027844             16  218.064240   \n",
       "1    CUST0002        Online Ads      1107.865808             33   33.571691   \n",
       "2    CUST0003      Social Media      2576.081025             44   58.547296   \n",
       "3    CUST0004        Online Ads      3257.567932             32  101.798998   \n",
       "4    CUST0005   Email Marketing      1108.408185             13   85.262168   \n",
       "\n",
       "   Conversion_Rate  \n",
       "0         0.458580  \n",
       "1         2.978700  \n",
       "2         1.708021  \n",
       "3         0.982328  \n",
       "4         1.172853  "
      ]
     },
     "execution_count": 3,
     "metadata": {},
     "output_type": "execute_result"
    }
   ],
   "source": [
    "# Creating a new column for Customer Acquisition Cost (CAC)\n",
    "df['CAC'] = df['Marketing_Spend']/ df['New_Customers']\n",
    "# Creating a new column for Conversion Rate\n",
    "df['Conversion_Rate'] = df['New_Customers'] / df['Marketing_Spend'] * 100\n",
    "\n",
    "df.head()"
   ]
  },
  {
   "cell_type": "markdown",
   "id": "c4c6c839",
   "metadata": {},
   "source": [
    "### **Break-Even Customers:**"
   ]
  },
  {
   "cell_type": "markdown",
   "id": "e2333fbf",
   "metadata": {},
   "source": [
    "-   Now, We'll calculate the break-even customers for our marketing campaign.\n",
    "\n",
    "-   What Is Break-Even Customer?\n",
    "    -   The break-even customers is refer to how many customers do we need to acquire using a specific marketing channel to cover our marketing spend."
   ]
  },
  {
   "cell_type": "code",
   "execution_count": 18,
   "id": "3304c850",
   "metadata": {},
   "outputs": [],
   "source": [
    "df['break_even'] = df['Marketing_Spend'] / df['CAC']"
   ]
  },
  {
   "cell_type": "code",
   "execution_count": 19,
   "id": "5539f0bb",
   "metadata": {},
   "outputs": [],
   "source": [
    "df_break_even = df.groupby('Marketing_Channel')['break_even'].mean().reset_index()\n",
    "df_break_even = df_break_even.sort_values(by='break_even', ascending=False)"
   ]
  },
  {
   "cell_type": "code",
   "execution_count": 20,
   "id": "1424943a",
   "metadata": {},
   "outputs": [
    {
     "data": {
      "image/png": "[encoded data removed]",
      "text/plain": [
       "<Figure size 800x400 with 1 Axes>"
      ]
     },
     "metadata": {},
     "output_type": "display_data"
    }
   ],
   "source": [
    "plt.figure(figsize=(8, 4))\n",
    "sns.barplot(\n",
    "    data=df_break_even,\n",
    "    x='Marketing_Channel',\n",
    "    y='break_even',\n",
    "    palette='Greens_r',\n",
    "    edgecolor='black',\n",
    "    width=0.4,\n",
    "    ci=None\n",
    ")\n",
    "\n",
    "plt.title('Break-even Point by Marketing Channel')\n",
    "plt.xlabel('Marketing Channel')\n",
    "plt.ylabel('Break-even Point')\n",
    "#plt.xticks(rotation=45)\n",
    "\n",
    "\n",
    "sns.despine()\n",
    "plt.tight_layout()\n",
    "plt.show()"
   ]
  },
  {
   "cell_type": "markdown",
   "id": "0fc3b3b2",
   "metadata": {},
   "source": [
    "- **Social Media** has the highest break-even point at approximately **30 months**, indicating it takes the longest time to recover marketing costs.\n",
    "- **Referral** follows closely with a break-even point of around **30 months**, showing similar recovery timelines.\n",
    "- **Online Ads** also has a break-even point of about **30 months**, aligning with Social Media and Referral in terms of recovery duration.\n",
    "- **Email Marketing** has the lowest break-even point, at roughly **29 months**, making it the fastest channel to reach profitability.\n",
    "\n",
    "#### Key Observations:\n",
    "1. **Similar Performance**: Social Media, Referral, and Online Ads have nearly identical break-even points, suggesting comparable efficiency in recovering marketing costs over time.\n",
    "2. **Faster Recovery**: Email Marketing stands out as the most efficient channel, requiring fewer months to break even compared to other channels.\n",
    "3. **Consistency Across Channels**: The relatively close break-even points across all channels indicate that none of them are significantly underperforming in terms of long-term cost recovery.\n",
    "____________"
   ]
  },
  {
   "cell_type": "code",
   "execution_count": 21,
   "id": "97f12349",
   "metadata": {},
   "outputs": [],
   "source": [
    "# Grouping by Marketing Channel to calculate actual and break-even customers\n",
    "channel_comparison = df.groupby('Marketing_Channel', as_index=False).agg(\n",
    "    Actual_Customers=('New_Customers', 'sum'),\n",
    "    Break_Even_Customers=('break_even', 'sum')\n",
    ")\n",
    "# Melting the DataFrame for plotting\n",
    "comparison_melted = channel_comparison.melt(\n",
    "    id_vars='Marketing_Channel',\n",
    "    value_vars=['Actual_Customers', 'Break_Even_Customers'],\n",
    "    var_name='Metric',\n",
    "    value_name='Customers'\n",
    ")"
   ]
  },
  {
   "cell_type": "code",
   "execution_count": 22,
   "id": "e791750e",
   "metadata": {},
   "outputs": [
    {
     "data": {
      "image/png": "[encoded data removed]",
      "text/plain": [
       "<Figure size 800x400 with 1 Axes>"
      ]
     },
     "metadata": {},
     "output_type": "display_data"
    }
   ],
   "source": [
    "plt.figure(figsize=(8, 4))\n",
    "sns.barplot(\n",
    "    data=comparison_melted,\n",
    "    x='Marketing_Channel',\n",
    "    y='Customers',\n",
    "    hue='Metric',\n",
    "    palette='Set2',\n",
    "    edgecolor='black',\n",
    "    width=0.4,\n",
    ")\n",
    "\n",
    "plt.title('Actual vs Break-Even Customers by Marketing Channel', pad=25)\n",
    "plt.xlabel('Marketing Channel')\n",
    "plt.ylabel('Number of Customers')\n",
    "\n",
    "plt.legend(\n",
    "    loc='upper center',\n",
    "    bbox_to_anchor=(0.5, 1.1),\n",
    "    ncol=2,\n",
    "    frameon=False,\n",
    "    fontsize=9\n",
    ")\n",
    "\n",
    "sns.despine()\n",
    "plt.tight_layout()\n",
    "plt.show()"
   ]
  },
  {
   "cell_type": "markdown",
   "id": "a91b1fec",
   "metadata": {},
   "source": [
    "- **Online Ads** and **Referral** both have nearly identical performance:\n",
    "  - Both channels acquired approximately **3,900 actual customers**, which is very close to their respective break-even points.\n",
    "  - This indicates that these channels are performing efficiently, as they are acquiring customers at or slightly above their break-even thresholds.\n",
    "\n",
    "- **Email Marketing**:\n",
    "  - Acquired around **3,500 actual customers**, which is slightly below its break-even point of about **3,600 customers**.\n",
    "  - This suggests that Email Marketing is marginally underperforming in terms of meeting its break-even target.\n",
    "\n",
    "- **Social Media**:\n",
    "  - Also acquired around **3,500 actual customers**, which is slightly below its break-even point of approximately **3,600 customers**.\n",
    "  - Similar to Email Marketing, Social Media is not quite reaching its break-even threshold, indicating a slight inefficiency.\n",
    "\n",
    "### Key Observations:\n",
    "1. **Efficient Channels**: Online Ads and Referral are the most efficient channels, as they consistently meet or exceed their break-even points.\n",
    "2. **Underperforming Channels**: Email Marketing and Social Media fall slightly short of their break-even targets, suggesting potential areas for optimization.\n",
    "3. **Consistency Across Channels**: All channels show relatively close alignment between actual customers and break-even customers, indicating consistent performance overall.\n",
    "\n",
    "____________________________"
   ]
  },
  {
   "cell_type": "markdown",
   "id": "63e676ca",
   "metadata": {},
   "source": [
    "### **Conclusion:**\n",
    "Based on the analysis of the Customer Acquisition Cost (CAC), marketing spend, and customer acquisition performance across four marketing channels — **Email Marketing**, **Online Ads**, **Social Media**, and **Referral** — the **Referral** channel emerges as the most cost-effective, consistently delivering the lowest CAC and showing strong efficiency in acquiring customers. **Online Ads** performs well in terms of conversion rate and scalability, making it a strong contender for budget allocation. **Email Marketing** has the highest average CAC and slightly underperforms relative to its break-even point, indicating a need for optimization in targeting or messaging. **Social Media** shows moderate efficiency, with room for improvement through better audience segmentation or content strategy."
   ]
  }
 ],
 "metadata": {
  "kernelspec": {
   "display_name": "projects",
   "language": "python",
   "name": "python3"
  },
  "language_info": {
   "codemirror_mode": {
    "name": "ipython",
    "version": 3
   },
   "file_extension": ".py",
   "mimetype": "text/x-python",
   "name": "python",
   "nbconvert_exporter": "python",
   "pygments_lexer": "ipython3",
   "version": "3.13.4"
  }
 },
 "nbformat": 4,
 "nbformat_minor": 5
}
