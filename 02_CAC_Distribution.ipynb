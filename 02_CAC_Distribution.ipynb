{
 "cells": [
  {
   "cell_type": "code",
   "execution_count": 1,
   "id": "86f6f05e",
   "metadata": {},
   "outputs": [
    {
     "data": {
      "application/vnd.microsoft.datawrangler.viewer.v0+json": {
       "columns": [
        {
         "name": "index",
         "rawType": "int64",
         "type": "integer"
        },
        {
         "name": "Customer_ID",
         "rawType": "object",
         "type": "string"
        },
        {
         "name": "Marketing_Channel",
         "rawType": "object",
         "type": "string"
        },
        {
         "name": "Marketing_Spend",
         "rawType": "float64",
         "type": "float"
        },
        {
         "name": "New_Customers",
         "rawType": "int64",
         "type": "integer"
        }
       ],
       "ref": "77f171e6-244a-4e4b-a09a-8d64a5b841ee",
       "rows": [
        [
         "0",
         "CUST0001",
         "Email Marketing",
         "3489.0278438962587",
         "16"
        ],
        [
         "1",
         "CUST0002",
         "Online Ads",
         "1107.8658076205506",
         "33"
        ],
        [
         "2",
         "CUST0003",
         "Social Media",
         "2576.081025358819",
         "44"
        ],
        [
         "3",
         "CUST0004",
         "Online Ads",
         "3257.5679320990967",
         "32"
        ],
        [
         "4",
         "CUST0005",
         "Email Marketing",
         "1108.4081853612497",
         "13"
        ]
       ],
       "shape": {
        "columns": 4,
        "rows": 5
       }
      },
      "text/html": [
       "<div>\n",
       "<style scoped>\n",
       "    .dataframe tbody tr th:only-of-type {\n",
       "        vertical-align: middle;\n",
       "    }\n",
       "\n",
       "    .dataframe tbody tr th {\n",
       "        vertical-align: top;\n",
       "    }\n",
       "\n",
       "    .dataframe thead th {\n",
       "        text-align: right;\n",
       "    }\n",
       "</style>\n",
       "<table border=\"1\" class=\"dataframe\">\n",
       "  <thead>\n",
       "    <tr style=\"text-align: right;\">\n",
       "      <th></th>\n",
       "      <th>Customer_ID</th>\n",
       "      <th>Marketing_Channel</th>\n",
       "      <th>Marketing_Spend</th>\n",
       "      <th>New_Customers</th>\n",
       "    </tr>\n",
       "  </thead>\n",
       "  <tbody>\n",
       "    <tr>\n",
       "      <th>0</th>\n",
       "      <td>CUST0001</td>\n",
       "      <td>Email Marketing</td>\n",
       "      <td>3489.027844</td>\n",
       "      <td>16</td>\n",
       "    </tr>\n",
       "    <tr>\n",
       "      <th>1</th>\n",
       "      <td>CUST0002</td>\n",
       "      <td>Online Ads</td>\n",
       "      <td>1107.865808</td>\n",
       "      <td>33</td>\n",
       "    </tr>\n",
       "    <tr>\n",
       "      <th>2</th>\n",
       "      <td>CUST0003</td>\n",
       "      <td>Social Media</td>\n",
       "      <td>2576.081025</td>\n",
       "      <td>44</td>\n",
       "    </tr>\n",
       "    <tr>\n",
       "      <th>3</th>\n",
       "      <td>CUST0004</td>\n",
       "      <td>Online Ads</td>\n",
       "      <td>3257.567932</td>\n",
       "      <td>32</td>\n",
       "    </tr>\n",
       "    <tr>\n",
       "      <th>4</th>\n",
       "      <td>CUST0005</td>\n",
       "      <td>Email Marketing</td>\n",
       "      <td>1108.408185</td>\n",
       "      <td>13</td>\n",
       "    </tr>\n",
       "  </tbody>\n",
       "</table>\n",
       "</div>"
      ],
      "text/plain": [
       "  Customer_ID Marketing_Channel  Marketing_Spend  New_Customers\n",
       "0    CUST0001   Email Marketing      3489.027844             16\n",
       "1    CUST0002        Online Ads      1107.865808             33\n",
       "2    CUST0003      Social Media      2576.081025             44\n",
       "3    CUST0004        Online Ads      3257.567932             32\n",
       "4    CUST0005   Email Marketing      1108.408185             13"
      ]
     },
     "execution_count": 1,
     "metadata": {},
     "output_type": "execute_result"
    }
   ],
   "source": [
    "import pandas as pd\n",
    "import numpy as np\n",
    "import matplotlib.pyplot as plt\n",
    "import seaborn as sns\n",
    "from matplotlib.ticker import FuncFormatter\n",
    "import plotly.express as px\n",
    "\n",
    "import warnings\n",
    "warnings.filterwarnings(\"ignore\")\n",
    "\n",
    "df = pd.read_csv(r\"C:\\Users\\emper\\OneDrive\\Desktop\\Customer Acquisition Cost Analysis\\cac.csv\")\n",
    "\n",
    "df.head()\n"
   ]
  },
  {
   "cell_type": "code",
   "execution_count": 2,
   "id": "c325afa0",
   "metadata": {},
   "outputs": [
    {
     "name": "stdout",
     "output_type": "stream",
     "text": [
      "<class 'pandas.core.frame.DataFrame'>\n",
      "RangeIndex: 500 entries, 0 to 499\n",
      "Data columns (total 4 columns):\n",
      " #   Column             Non-Null Count  Dtype  \n",
      "---  ------             --------------  -----  \n",
      " 0   Customer_ID        500 non-null    object \n",
      " 1   Marketing_Channel  500 non-null    object \n",
      " 2   Marketing_Spend    500 non-null    float64\n",
      " 3   New_Customers      500 non-null    int64  \n",
      "dtypes: float64(1), int64(1), object(2)\n",
      "memory usage: 15.8+ KB\n"
     ]
    }
   ],
   "source": [
    "df.info()"
   ]
  },
  {
   "cell_type": "code",
   "execution_count": 3,
   "id": "32d43e95",
   "metadata": {},
   "outputs": [
    {
     "data": {
      "application/vnd.microsoft.datawrangler.viewer.v0+json": {
       "columns": [
        {
         "name": "index",
         "rawType": "int64",
         "type": "integer"
        },
        {
         "name": "Customer_ID",
         "rawType": "object",
         "type": "string"
        },
        {
         "name": "Marketing_Channel",
         "rawType": "object",
         "type": "string"
        },
        {
         "name": "Marketing_Spend",
         "rawType": "float64",
         "type": "float"
        },
        {
         "name": "New_Customers",
         "rawType": "int64",
         "type": "integer"
        },
        {
         "name": "CAC",
         "rawType": "float64",
         "type": "float"
        },
        {
         "name": "Conversion_Rate",
         "rawType": "float64",
         "type": "float"
        }
       ],
       "ref": "03130000-ddf1-40f5-9382-c854ee94a938",
       "rows": [
        [
         "0",
         "CUST0001",
         "Email Marketing",
         "3489.0278438962587",
         "16",
         "218.06424024351617",
         "0.4585804618323859"
        ],
        [
         "1",
         "CUST0002",
         "Online Ads",
         "1107.8658076205506",
         "33",
         "33.57169114001669",
         "2.97870010726991"
        ],
        [
         "2",
         "CUST0003",
         "Social Media",
         "2576.081025358819",
         "44",
         "58.547296030882244",
         "1.7080208101711902"
        ],
        [
         "3",
         "CUST0004",
         "Online Ads",
         "3257.5679320990967",
         "32",
         "101.79899787809677",
         "0.9823279411821808"
        ],
        [
         "4",
         "CUST0005",
         "Email Marketing",
         "1108.4081853612497",
         "13",
         "85.26216810471152",
         "1.1728531214124038"
        ]
       ],
       "shape": {
        "columns": 6,
        "rows": 5
       }
      },
      "text/html": [
       "<div>\n",
       "<style scoped>\n",
       "    .dataframe tbody tr th:only-of-type {\n",
       "        vertical-align: middle;\n",
       "    }\n",
       "\n",
       "    .dataframe tbody tr th {\n",
       "        vertical-align: top;\n",
       "    }\n",
       "\n",
       "    .dataframe thead th {\n",
       "        text-align: right;\n",
       "    }\n",
       "</style>\n",
       "<table border=\"1\" class=\"dataframe\">\n",
       "  <thead>\n",
       "    <tr style=\"text-align: right;\">\n",
       "      <th></th>\n",
       "      <th>Customer_ID</th>\n",
       "      <th>Marketing_Channel</th>\n",
       "      <th>Marketing_Spend</th>\n",
       "      <th>New_Customers</th>\n",
       "      <th>CAC</th>\n",
       "      <th>Conversion_Rate</th>\n",
       "    </tr>\n",
       "  </thead>\n",
       "  <tbody>\n",
       "    <tr>\n",
       "      <th>0</th>\n",
       "      <td>CUST0001</td>\n",
       "      <td>Email Marketing</td>\n",
       "      <td>3489.027844</td>\n",
       "      <td>16</td>\n",
       "      <td>218.064240</td>\n",
       "      <td>0.458580</td>\n",
       "    </tr>\n",
       "    <tr>\n",
       "      <th>1</th>\n",
       "      <td>CUST0002</td>\n",
       "      <td>Online Ads</td>\n",
       "      <td>1107.865808</td>\n",
       "      <td>33</td>\n",
       "      <td>33.571691</td>\n",
       "      <td>2.978700</td>\n",
       "    </tr>\n",
       "    <tr>\n",
       "      <th>2</th>\n",
       "      <td>CUST0003</td>\n",
       "      <td>Social Media</td>\n",
       "      <td>2576.081025</td>\n",
       "      <td>44</td>\n",
       "      <td>58.547296</td>\n",
       "      <td>1.708021</td>\n",
       "    </tr>\n",
       "    <tr>\n",
       "      <th>3</th>\n",
       "      <td>CUST0004</td>\n",
       "      <td>Online Ads</td>\n",
       "      <td>3257.567932</td>\n",
       "      <td>32</td>\n",
       "      <td>101.798998</td>\n",
       "      <td>0.982328</td>\n",
       "    </tr>\n",
       "    <tr>\n",
       "      <th>4</th>\n",
       "      <td>CUST0005</td>\n",
       "      <td>Email Marketing</td>\n",
       "      <td>1108.408185</td>\n",
       "      <td>13</td>\n",
       "      <td>85.262168</td>\n",
       "      <td>1.172853</td>\n",
       "    </tr>\n",
       "  </tbody>\n",
       "</table>\n",
       "</div>"
      ],
      "text/plain": [
       "  Customer_ID Marketing_Channel  Marketing_Spend  New_Customers         CAC  \\\n",
       "0    CUST0001   Email Marketing      3489.027844             16  218.064240   \n",
       "1    CUST0002        Online Ads      1107.865808             33   33.571691   \n",
       "2    CUST0003      Social Media      2576.081025             44   58.547296   \n",
       "3    CUST0004        Online Ads      3257.567932             32  101.798998   \n",
       "4    CUST0005   Email Marketing      1108.408185             13   85.262168   \n",
       "\n",
       "   Conversion_Rate  \n",
       "0         0.458580  \n",
       "1         2.978700  \n",
       "2         1.708021  \n",
       "3         0.982328  \n",
       "4         1.172853  "
      ]
     },
     "execution_count": 3,
     "metadata": {},
     "output_type": "execute_result"
    }
   ],
   "source": [
    "# Creating a new column for Customer Acquisition Cost (CAC)\n",
    "df['CAC'] = df['Marketing_Spend']/ df['New_Customers']\n",
    "# Creating a new column for Conversion Rate\n",
    "df['Conversion_Rate'] = df['New_Customers'] / df['Marketing_Spend'] * 100\n",
    "\n",
    "df.head()"
   ]
  },
  {
   "cell_type": "markdown",
   "id": "084ba324",
   "metadata": {},
   "source": [
    "### **Customer Acquisition Cost Distribution:**"
   ]
  },
  {
   "cell_type": "markdown",
   "id": "fe87ba82",
   "metadata": {},
   "source": [
    "-   I will use box plot to see the distribution of CAC by Marketing Channel:"
   ]
  },
  {
   "cell_type": "code",
   "execution_count": 4,
   "id": "0b7e39f4",
   "metadata": {},
   "outputs": [
    {
     "data": {
      "image/png": "[encoded data removed]",
      "text/plain": [
       "<Figure size 800x400 with 1 Axes>"
      ]
     },
     "metadata": {},
     "output_type": "display_data"
    }
   ],
   "source": [
    "plt.figure(figsize=(8, 4))\n",
    "sns.boxplot(\n",
    "    data=df,\n",
    "    x='CAC', \n",
    "    y='Marketing_Channel', \n",
    "    palette='Set1'\n",
    "    )\n",
    "\n",
    "plt.title('Distribution of CAC by Marketing Channel')\n",
    "plt.xlabel('Customer Acquisition Cost ($)')\n",
    "plt.ylabel('Marketing Channel')\n",
    "plt.grid(axis='x', linestyle='--', alpha=0.7)\n",
    "\n",
    "sns.despine()\n",
    "plt.tight_layout()\n",
    "plt.show()"
   ]
  },
  {
   "cell_type": "markdown",
   "id": "35bdcbcc",
   "metadata": {},
   "source": [
    "- **Referral** has the lowest median Customer Acquisition Cost (CAC), indicating it is the most cost-effective channel overall.\n",
    "- **Social Media** and **Online Ads** have similar median CAC values, with Social Media showing slightly lower variability compared to Online Ads.\n",
    "- **Email Marketing** has the highest median CAC among all channels, suggesting it is the least cost-effective in terms of acquiring customers.\n",
    "- **Outliers**: \n",
    "  - Email Marketing shows a few high outliers, indicating some campaigns had significantly higher CAC than others.\n",
    "  - Referral also has a few high outliers, but they are less extreme compared to Email Marketing.\n",
    "- **Variability**:\n",
    "  - Referral exhibits the lowest variability in CAC, meaning its performance is more consistent across campaigns.\n",
    "  - Email Marketing has the highest variability, suggesting inconsistent campaign performance or varying effectiveness.\n",
    "\n",
    "#### Key Observations:\n",
    "1. **Efficiency**: Referral consistently outperforms other channels in terms of CAC, making it the most efficient channel.\n",
    "2. **Consistency**: Referral not only has the lowest median CAC but also the least variability, indicating stable performance.\n",
    "3. **High-Cost Concerns**: Email Marketing has both the highest median CAC and significant variability, which may warrant further investigation into underperforming campaigns.\n",
    "4. **Moderate Performance**: Social Media and Online Ads fall in the middle, with moderate CAC values and reasonable consistency.\n",
    "______________"
   ]
  }
 ],
 "metadata": {
  "kernelspec": {
   "display_name": "projects",
   "language": "python",
   "name": "python3"
  },
  "language_info": {
   "codemirror_mode": {
    "name": "ipython",
    "version": 3
   },
   "file_extension": ".py",
   "mimetype": "text/x-python",
   "name": "python",
   "nbconvert_exporter": "python",
   "pygments_lexer": "ipython3",
   "version": "3.13.4"
  }
 },
 "nbformat": 4,
 "nbformat_minor": 5
}
