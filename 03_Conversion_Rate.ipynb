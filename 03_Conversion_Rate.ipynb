{
 "cells": [
  {
   "cell_type": "code",
   "execution_count": 6,
   "id": "86f6f05e",
   "metadata": {},
   "outputs": [
    {
     "data": {
      "application/vnd.microsoft.datawrangler.viewer.v0+json": {
       "columns": [
        {
         "name": "index",
         "rawType": "int64",
         "type": "integer"
        },
        {
         "name": "Customer_ID",
         "rawType": "object",
         "type": "string"
        },
        {
         "name": "Marketing_Channel",
         "rawType": "object",
         "type": "string"
        },
        {
         "name": "Marketing_Spend",
         "rawType": "float64",
         "type": "float"
        },
        {
         "name": "New_Customers",
         "rawType": "int64",
         "type": "integer"
        }
       ],
       "ref": "4ad039cb-1b16-4117-b6b1-81417703dd4d",
       "rows": [
        [
         "0",
         "CUST0001",
         "Email Marketing",
         "3489.0278438962587",
         "16"
        ],
        [
         "1",
         "CUST0002",
         "Online Ads",
         "1107.8658076205506",
         "33"
        ],
        [
         "2",
         "CUST0003",
         "Social Media",
         "2576.081025358819",
         "44"
        ],
        [
         "3",
         "CUST0004",
         "Online Ads",
         "3257.5679320990967",
         "32"
        ],
        [
         "4",
         "CUST0005",
         "Email Marketing",
         "1108.4081853612497",
         "13"
        ]
       ],
       "shape": {
        "columns": 4,
        "rows": 5
       }
      },
      "text/html": [
       "<div>\n",
       "<style scoped>\n",
       "    .dataframe tbody tr th:only-of-type {\n",
       "        vertical-align: middle;\n",
       "    }\n",
       "\n",
       "    .dataframe tbody tr th {\n",
       "        vertical-align: top;\n",
       "    }\n",
       "\n",
       "    .dataframe thead th {\n",
       "        text-align: right;\n",
       "    }\n",
       "</style>\n",
       "<table border=\"1\" class=\"dataframe\">\n",
       "  <thead>\n",
       "    <tr style=\"text-align: right;\">\n",
       "      <th></th>\n",
       "      <th>Customer_ID</th>\n",
       "      <th>Marketing_Channel</th>\n",
       "      <th>Marketing_Spend</th>\n",
       "      <th>New_Customers</th>\n",
       "    </tr>\n",
       "  </thead>\n",
       "  <tbody>\n",
       "    <tr>\n",
       "      <th>0</th>\n",
       "      <td>CUST0001</td>\n",
       "      <td>Email Marketing</td>\n",
       "      <td>3489.027844</td>\n",
       "      <td>16</td>\n",
       "    </tr>\n",
       "    <tr>\n",
       "      <th>1</th>\n",
       "      <td>CUST0002</td>\n",
       "      <td>Online Ads</td>\n",
       "      <td>1107.865808</td>\n",
       "      <td>33</td>\n",
       "    </tr>\n",
       "    <tr>\n",
       "      <th>2</th>\n",
       "      <td>CUST0003</td>\n",
       "      <td>Social Media</td>\n",
       "      <td>2576.081025</td>\n",
       "      <td>44</td>\n",
       "    </tr>\n",
       "    <tr>\n",
       "      <th>3</th>\n",
       "      <td>CUST0004</td>\n",
       "      <td>Online Ads</td>\n",
       "      <td>3257.567932</td>\n",
       "      <td>32</td>\n",
       "    </tr>\n",
       "    <tr>\n",
       "      <th>4</th>\n",
       "      <td>CUST0005</td>\n",
       "      <td>Email Marketing</td>\n",
       "      <td>1108.408185</td>\n",
       "      <td>13</td>\n",
       "    </tr>\n",
       "  </tbody>\n",
       "</table>\n",
       "</div>"
      ],
      "text/plain": [
       "  Customer_ID Marketing_Channel  Marketing_Spend  New_Customers\n",
       "0    CUST0001   Email Marketing      3489.027844             16\n",
       "1    CUST0002        Online Ads      1107.865808             33\n",
       "2    CUST0003      Social Media      2576.081025             44\n",
       "3    CUST0004        Online Ads      3257.567932             32\n",
       "4    CUST0005   Email Marketing      1108.408185             13"
      ]
     },
     "execution_count": 6,
     "metadata": {},
     "output_type": "execute_result"
    }
   ],
   "source": [
    "import pandas as pd\n",
    "import numpy as np\n",
    "import matplotlib.pyplot as plt\n",
    "import seaborn as sns\n",
    "from matplotlib.ticker import FuncFormatter\n",
    "import plotly.express as px\n",
    "\n",
    "import warnings\n",
    "warnings.filterwarnings(\"ignore\")\n",
    "\n",
    "df = pd.read_csv(r\"C:\\Users\\emper\\OneDrive\\Desktop\\Customer Acquisition Cost Analysis\\cac.csv\")\n",
    "\n",
    "df.head()\n"
   ]
  },
  {
   "cell_type": "code",
   "execution_count": 7,
   "id": "c325afa0",
   "metadata": {},
   "outputs": [
    {
     "name": "stdout",
     "output_type": "stream",
     "text": [
      "<class 'pandas.core.frame.DataFrame'>\n",
      "RangeIndex: 500 entries, 0 to 499\n",
      "Data columns (total 4 columns):\n",
      " #   Column             Non-Null Count  Dtype  \n",
      "---  ------             --------------  -----  \n",
      " 0   Customer_ID        500 non-null    object \n",
      " 1   Marketing_Channel  500 non-null    object \n",
      " 2   Marketing_Spend    500 non-null    float64\n",
      " 3   New_Customers      500 non-null    int64  \n",
      "dtypes: float64(1), int64(1), object(2)\n",
      "memory usage: 15.8+ KB\n"
     ]
    }
   ],
   "source": [
    "df.info()"
   ]
  },
  {
   "cell_type": "code",
   "execution_count": 8,
   "id": "32d43e95",
   "metadata": {},
   "outputs": [
    {
     "data": {
      "application/vnd.microsoft.datawrangler.viewer.v0+json": {
       "columns": [
        {
         "name": "index",
         "rawType": "int64",
         "type": "integer"
        },
        {
         "name": "Customer_ID",
         "rawType": "object",
         "type": "string"
        },
        {
         "name": "Marketing_Channel",
         "rawType": "object",
         "type": "string"
        },
        {
         "name": "Marketing_Spend",
         "rawType": "float64",
         "type": "float"
        },
        {
         "name": "New_Customers",
         "rawType": "int64",
         "type": "integer"
        },
        {
         "name": "CAC",
         "rawType": "float64",
         "type": "float"
        },
        {
         "name": "Conversion_Rate",
         "rawType": "float64",
         "type": "float"
        }
       ],
       "ref": "3b5ab40d-9238-4417-a4cd-9eefab8ab2df",
       "rows": [
        [
         "0",
         "CUST0001",
         "Email Marketing",
         "3489.0278438962587",
         "16",
         "218.06424024351617",
         "0.4585804618323859"
        ],
        [
         "1",
         "CUST0002",
         "Online Ads",
         "1107.8658076205506",
         "33",
         "33.57169114001669",
         "2.97870010726991"
        ],
        [
         "2",
         "CUST0003",
         "Social Media",
         "2576.081025358819",
         "44",
         "58.547296030882244",
         "1.7080208101711902"
        ],
        [
         "3",
         "CUST0004",
         "Online Ads",
         "3257.5679320990967",
         "32",
         "101.79899787809677",
         "0.9823279411821808"
        ],
        [
         "4",
         "CUST0005",
         "Email Marketing",
         "1108.4081853612497",
         "13",
         "85.26216810471152",
         "1.1728531214124038"
        ]
       ],
       "shape": {
        "columns": 6,
        "rows": 5
       }
      },
      "text/html": [
       "<div>\n",
       "<style scoped>\n",
       "    .dataframe tbody tr th:only-of-type {\n",
       "        vertical-align: middle;\n",
       "    }\n",
       "\n",
       "    .dataframe tbody tr th {\n",
       "        vertical-align: top;\n",
       "    }\n",
       "\n",
       "    .dataframe thead th {\n",
       "        text-align: right;\n",
       "    }\n",
       "</style>\n",
       "<table border=\"1\" class=\"dataframe\">\n",
       "  <thead>\n",
       "    <tr style=\"text-align: right;\">\n",
       "      <th></th>\n",
       "      <th>Customer_ID</th>\n",
       "      <th>Marketing_Channel</th>\n",
       "      <th>Marketing_Spend</th>\n",
       "      <th>New_Customers</th>\n",
       "      <th>CAC</th>\n",
       "      <th>Conversion_Rate</th>\n",
       "    </tr>\n",
       "  </thead>\n",
       "  <tbody>\n",
       "    <tr>\n",
       "      <th>0</th>\n",
       "      <td>CUST0001</td>\n",
       "      <td>Email Marketing</td>\n",
       "      <td>3489.027844</td>\n",
       "      <td>16</td>\n",
       "      <td>218.064240</td>\n",
       "      <td>0.458580</td>\n",
       "    </tr>\n",
       "    <tr>\n",
       "      <th>1</th>\n",
       "      <td>CUST0002</td>\n",
       "      <td>Online Ads</td>\n",
       "      <td>1107.865808</td>\n",
       "      <td>33</td>\n",
       "      <td>33.571691</td>\n",
       "      <td>2.978700</td>\n",
       "    </tr>\n",
       "    <tr>\n",
       "      <th>2</th>\n",
       "      <td>CUST0003</td>\n",
       "      <td>Social Media</td>\n",
       "      <td>2576.081025</td>\n",
       "      <td>44</td>\n",
       "      <td>58.547296</td>\n",
       "      <td>1.708021</td>\n",
       "    </tr>\n",
       "    <tr>\n",
       "      <th>3</th>\n",
       "      <td>CUST0004</td>\n",
       "      <td>Online Ads</td>\n",
       "      <td>3257.567932</td>\n",
       "      <td>32</td>\n",
       "      <td>101.798998</td>\n",
       "      <td>0.982328</td>\n",
       "    </tr>\n",
       "    <tr>\n",
       "      <th>4</th>\n",
       "      <td>CUST0005</td>\n",
       "      <td>Email Marketing</td>\n",
       "      <td>1108.408185</td>\n",
       "      <td>13</td>\n",
       "      <td>85.262168</td>\n",
       "      <td>1.172853</td>\n",
       "    </tr>\n",
       "  </tbody>\n",
       "</table>\n",
       "</div>"
      ],
      "text/plain": [
       "  Customer_ID Marketing_Channel  Marketing_Spend  New_Customers         CAC  \\\n",
       "0    CUST0001   Email Marketing      3489.027844             16  218.064240   \n",
       "1    CUST0002        Online Ads      1107.865808             33   33.571691   \n",
       "2    CUST0003      Social Media      2576.081025             44   58.547296   \n",
       "3    CUST0004        Online Ads      3257.567932             32  101.798998   \n",
       "4    CUST0005   Email Marketing      1108.408185             13   85.262168   \n",
       "\n",
       "   Conversion_Rate  \n",
       "0         0.458580  \n",
       "1         2.978700  \n",
       "2         1.708021  \n",
       "3         0.982328  \n",
       "4         1.172853  "
      ]
     },
     "execution_count": 8,
     "metadata": {},
     "output_type": "execute_result"
    }
   ],
   "source": [
    "# Creating a new column for Customer Acquisition Cost (CAC)\n",
    "df['CAC'] = df['Marketing_Spend']/ df['New_Customers']\n",
    "# Creating a new column for Conversion Rate\n",
    "df['Conversion_Rate'] = df['New_Customers'] / df['Marketing_Spend'] * 100\n",
    "\n",
    "df.head()"
   ]
  },
  {
   "cell_type": "markdown",
   "id": "f1b7ca44",
   "metadata": {},
   "source": [
    "### **Conversion Rate**"
   ]
  },
  {
   "cell_type": "markdown",
   "id": "6a1090e6",
   "metadata": {},
   "source": [
    "-   Conversion Rate refers to the percentage of potential customers who take a desired action\n"
   ]
  },
  {
   "cell_type": "code",
   "execution_count": 9,
   "id": "885424bc",
   "metadata": {},
   "outputs": [
    {
     "data": {
      "application/vnd.microsoft.datawrangler.viewer.v0+json": {
       "columns": [
        {
         "name": "index",
         "rawType": "int64",
         "type": "integer"
        },
        {
         "name": "Marketing_Channel",
         "rawType": "object",
         "type": "string"
        },
        {
         "name": "Conversion_Rate",
         "rawType": "float64",
         "type": "float"
        }
       ],
       "ref": "5bf158e0-8b98-4bde-a454-3157005e4a8c",
       "rows": [
        [
         "1",
         "Online Ads",
         "1.2109538498633745"
        ],
        [
         "0",
         "Email Marketing",
         "1.14671595540353"
        ],
        [
         "2",
         "Referral",
         "1.144832421048563"
        ],
        [
         "3",
         "Social Media",
         "1.1351366603541029"
        ]
       ],
       "shape": {
        "columns": 2,
        "rows": 4
       }
      },
      "text/html": [
       "<div>\n",
       "<style scoped>\n",
       "    .dataframe tbody tr th:only-of-type {\n",
       "        vertical-align: middle;\n",
       "    }\n",
       "\n",
       "    .dataframe tbody tr th {\n",
       "        vertical-align: top;\n",
       "    }\n",
       "\n",
       "    .dataframe thead th {\n",
       "        text-align: right;\n",
       "    }\n",
       "</style>\n",
       "<table border=\"1\" class=\"dataframe\">\n",
       "  <thead>\n",
       "    <tr style=\"text-align: right;\">\n",
       "      <th></th>\n",
       "      <th>Marketing_Channel</th>\n",
       "      <th>Conversion_Rate</th>\n",
       "    </tr>\n",
       "  </thead>\n",
       "  <tbody>\n",
       "    <tr>\n",
       "      <th>1</th>\n",
       "      <td>Online Ads</td>\n",
       "      <td>1.210954</td>\n",
       "    </tr>\n",
       "    <tr>\n",
       "      <th>0</th>\n",
       "      <td>Email Marketing</td>\n",
       "      <td>1.146716</td>\n",
       "    </tr>\n",
       "    <tr>\n",
       "      <th>2</th>\n",
       "      <td>Referral</td>\n",
       "      <td>1.144832</td>\n",
       "    </tr>\n",
       "    <tr>\n",
       "      <th>3</th>\n",
       "      <td>Social Media</td>\n",
       "      <td>1.135137</td>\n",
       "    </tr>\n",
       "  </tbody>\n",
       "</table>\n",
       "</div>"
      ],
      "text/plain": [
       "  Marketing_Channel  Conversion_Rate\n",
       "1        Online Ads         1.210954\n",
       "0   Email Marketing         1.146716\n",
       "2          Referral         1.144832\n",
       "3      Social Media         1.135137"
      ]
     },
     "execution_count": 9,
     "metadata": {},
     "output_type": "execute_result"
    }
   ],
   "source": [
    "df_conversion = df.groupby('Marketing_Channel')['Conversion_Rate'].mean().reset_index()\n",
    "df_conversion = df_conversion.sort_values(by='Conversion_Rate', ascending=False)\n",
    "\n",
    "df_conversion"
   ]
  },
  {
   "cell_type": "code",
   "execution_count": 10,
   "id": "e70b1094",
   "metadata": {},
   "outputs": [
    {
     "data": {
      "image/png": "[encoded data removed]",
      "text/plain": [
       "<Figure size 800x400 with 1 Axes>"
      ]
     },
     "metadata": {},
     "output_type": "display_data"
    }
   ],
   "source": [
    "plt.figure(figsize=(8, 4))\n",
    "ax = sns.barplot(\n",
    "        data=df_conversion,\n",
    "        x='Marketing_Channel',\n",
    "        y='Conversion_Rate',\n",
    "        palette='Greens_r',\n",
    "        edgecolor='black',\n",
    "        width=0.4,\n",
    "        ci=None\n",
    ")\n",
    "\n",
    "# Add value labels above each bar\n",
    "for container in ax.containers:\n",
    "    ax.bar_label(container, fmt='%.2f%%', padding=3)\n",
    "\n",
    "\n",
    "plt.title('Conversion Rate by Marketing Channel')\n",
    "plt.ylabel(None)\n",
    "plt.xlabel(None)\n",
    "ax.tick_params(left=False, labelleft=False)\n",
    "\n",
    "sns.despine(left=True, bottom=True)\n",
    "plt.tight_layout()\n",
    "plt.show()"
   ]
  },
  {
   "cell_type": "markdown",
   "id": "10c7d73e",
   "metadata": {},
   "source": [
    "- **Online Ads** has the highest conversion rate at **1.21%**, making it the most effective channel in terms of converting marketing spend into new customers.\n",
    "- **Email Marketing**, **Referral**, and **Social Media** have similar conversion rates, ranging from **1.14% to 1.15%**.\n",
    "- While Online Ads outperforms the other channels slightly, the differences are relatively small, indicating that all channels are reasonably effective at converting leads into customers.\n",
    "\n",
    "#### Key Observations:\n",
    "1. **Channel Performance**:\n",
    "   - **Online Ads**: Leads with the highest conversion rate, suggesting strong targeting or ad creatives.\n",
    "   - **Email Marketing, Referral, Social Media**: Perform comparably, showing consistent but slightly lower conversion rates.\n",
    "\n",
    "2. **Efficiency**:\n",
    "   - Online Ads demonstrates a slight edge in efficiency, converting more effectively than other channels.\n",
    "   - The similarity in conversion rates across Email Marketing, Referral, and Social Media suggests these channels may require further optimization to match Online Ads' performance.\n",
    "\n",
    "3. **Strategic Implications**:\n",
    "   - **Focus on Online Ads**: Allocate more budget to this channel due to its higher conversion rate.\n",
    "   - **Optimize Other Channels**: Investigate why Email Marketing, Referral, and Social Media have slightly lower conversion rates and explore ways to improve them.\n",
    "_________________"
   ]
  }
 ],
 "metadata": {
  "kernelspec": {
   "display_name": "projects",
   "language": "python",
   "name": "python3"
  },
  "language_info": {
   "codemirror_mode": {
    "name": "ipython",
    "version": 3
   },
   "file_extension": ".py",
   "mimetype": "text/x-python",
   "name": "python",
   "nbconvert_exporter": "python",
   "pygments_lexer": "ipython3",
   "version": "3.13.4"
  }
 },
 "nbformat": 4,
 "nbformat_minor": 5
}
